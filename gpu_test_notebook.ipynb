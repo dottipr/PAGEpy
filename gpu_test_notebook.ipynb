{
 "cells": [
  {
   "cell_type": "code",
   "execution_count": null,
   "id": "af36ebc2-6c2b-4aab-adb6-c87d084a79ec",
   "metadata": {},
   "outputs": [],
   "source": [
    "#%pip install torch"
   ]
  },
  {
   "cell_type": "code",
   "execution_count": 2,
   "id": "4488ddcd-55d8-49e4-8a73-bfe720dfb497",
   "metadata": {},
   "outputs": [
    {
     "ename": "ModuleNotFoundError",
     "evalue": "No module named 'torch'",
     "output_type": "error",
     "traceback": [
      "\u001b[0;31m---------------------------------------------------------------------------\u001b[0m",
      "\u001b[0;31mModuleNotFoundError\u001b[0m                       Traceback (most recent call last)",
      "Cell \u001b[0;32mIn[2], line 2\u001b[0m\n\u001b[1;32m      1\u001b[0m \u001b[38;5;66;03m#from model import initialize_test_network\u001b[39;00m\n\u001b[0;32m----> 2\u001b[0m \u001b[38;5;28;01mimport\u001b[39;00m\u001b[38;5;250m \u001b[39m\u001b[38;5;21;01mtorch\u001b[39;00m\n\u001b[1;32m      4\u001b[0m \u001b[38;5;66;03m# Inizializza la rete di test passando gli argomenti richiesti\u001b[39;00m\n\u001b[1;32m      5\u001b[0m input_size \u001b[38;5;241m=\u001b[39m \u001b[38;5;241m10\u001b[39m\n",
      "\u001b[0;31mModuleNotFoundError\u001b[0m: No module named 'torch'"
     ]
    }
   ],
   "source": [
    "from model import initialize_test_network\n",
    "import torch\n",
    "\n",
    "# Inizializza la rete di test passando gli argomenti richiesti\n",
    "input_size = 10\n",
    "hidden_size = 20\n",
    "output_size = 2\n",
    "model = initialize_test_network(input_size, hidden_size, output_size)\n",
    "\n",
    "if torch.cuda.is_available():\n",
    "    device = torch.device(\"cuda\")\n",
    "    print(f\"PyTorch is using GPU: {torch.cuda.get_device_name(0)}\")\n",
    "    model.to(device)  # Sposta il modello sulla GPU\n",
    "    input_tensor = torch.randn(1, input_size).to(device) # Crea un tensore sulla GPU con la dimensione corretta\n",
    "    output_tensor = model(input_tensor) # Esegui la forward pass sulla GPU\n",
    "    print(f\"Tensor device: {input_tensor.device}\")\n",
    "    print(f\"Model device: {next(model.parameters()).device}\")\n",
    "    print(f\"Output tensor on GPU: {output_tensor.device}\")\n",
    "else:\n",
    "    print(\"PyTorch is using CPU.\")\n",
    "    input_tensor = torch.randn(1, input_size)\n",
    "    output_tensor = model(input_tensor)\n",
    "    print(f\"Tensor device: {input_tensor.device}\")\n",
    "    print(f\"Model device: {next(model.parameters()).device}\")\n",
    "    print(f\"Output tensor on CPU: {output_tensor.device}\")"
   ]
  },
  {
   "cell_type": "code",
   "execution_count": 2,
   "id": "d13a3ae1-a10a-4765-a32c-40329467a964",
   "metadata": {},
   "outputs": [
    {
     "name": "stdout",
     "output_type": "stream",
     "text": [
      "/envs/rtf/v0.0.0/lib/\n"
     ]
    }
   ],
   "source": [
    "!echo $LD_LIBRARY_PATH "
   ]
  },
  {
   "cell_type": "code",
   "execution_count": 5,
   "id": "bb0e6571-105a-4223-baf2-f56f57cff669",
   "metadata": {},
   "outputs": [
    {
     "data": {
      "text/plain": [
       "'/envs/rtf/v0.0.0/lib/'"
      ]
     },
     "execution_count": 5,
     "metadata": {},
     "output_type": "execute_result"
    }
   ],
   "source": [
    "import os\n",
    "os.environ['LD_LIBRARY_PATH']"
   ]
  },
  {
   "cell_type": "code",
   "execution_count": null,
   "id": "5786a658-f024-4da0-9b07-1f4494eb4e42",
   "metadata": {},
   "outputs": [],
   "source": [
    "import os\n",
    "import sys \n",
    "#LD_LIBRARY_PATH_MY = '/opt/conda/envs/rtf/lib/'\n",
    "LD_LIBRARY_PATH_MY = '/envs/rtf/v0.0.0/lib/'\n",
    "print(os.path.exists(os.path.join(LD_LIBRARY_PATH_MY, \"libcudart.so.11.0\")))\n",
    "os.environ['LD_LIBRARY_PATH'] = LD_LIBRARY_PATH_MY"
   ]
  },
  {
   "cell_type": "code",
   "execution_count": null,
   "id": "b7dd6f39-2852-44a9-a8b5-3268813cfe98",
   "metadata": {},
   "outputs": [],
   "source": [
    "!echo $LD_LIBRARY_PATH "
   ]
  },
  {
   "cell_type": "code",
   "execution_count": 3,
   "id": "f2fe5b9b-ffa8-4b50-a2d9-7585eabab0c4",
   "metadata": {},
   "outputs": [
    {
     "name": "stderr",
     "output_type": "stream",
     "text": [
      "2025-07-18 08:12:55.223627: E external/local_xla/xla/stream_executor/cuda/cuda_fft.cc:477] Unable to register cuFFT factory: Attempting to register factory for plugin cuFFT when one has already been registered\n",
      "WARNING: All log messages before absl::InitializeLog() is called are written to STDERR\n",
      "E0000 00:00:1752826375.237320    5964 cuda_dnn.cc:8310] Unable to register cuDNN factory: Attempting to register factory for plugin cuDNN when one has already been registered\n",
      "E0000 00:00:1752826375.241588    5964 cuda_blas.cc:1418] Unable to register cuBLAS factory: Attempting to register factory for plugin cuBLAS when one has already been registered\n",
      "2025-07-18 08:12:55.255115: I tensorflow/core/platform/cpu_feature_guard.cc:210] This TensorFlow binary is optimized to use available CPU instructions in performance-critical operations.\n",
      "To enable the following instructions: AVX2 FMA, in other operations, rebuild TensorFlow with the appropriate compiler flags.\n"
     ]
    },
    {
     "name": "stdout",
     "output_type": "stream",
     "text": [
      "TensorFlow is using GPU(s):\n",
      "  - /physical_device:GPU:0\n",
      "Result on GPU: [[1. 3.]\n",
      " [3. 7.]]\n"
     ]
    },
    {
     "name": "stderr",
     "output_type": "stream",
     "text": [
      "I0000 00:00:1752826390.647976    5964 gpu_device.cc:2022] Created device /job:localhost/replica:0/task:0/device:GPU:0 with 405 MB memory:  -> device: 0, name: NVIDIA A100-PCIE-40GB MIG 3g.20gb, pci bus id: 0000:41:00.0, compute capability: 8.0\n"
     ]
    }
   ],
   "source": [
    "import tensorflow as tf\n",
    "\n",
    "if tf.config.list_physical_devices('GPU'):\n",
    "    print(\"TensorFlow is using GPU(s):\")\n",
    "    for gpu in tf.config.list_physical_devices('GPU'):\n",
    "        print(f\"  - {gpu.name}\")\n",
    "else:\n",
    "    print(\"TensorFlow is using CPU.\")\n",
    "\n",
    "# To specify GPU usage:\n",
    "with tf.device('/GPU:0'): # Use the first GPU\n",
    "    a = tf.constant([[1.0, 2.0], [3.0, 4.0]])\n",
    "    b = tf.constant([[1.0, 1.0], [0.0, 1.0]])\n",
    "    c = tf.matmul(a, b)\n",
    "    print(f\"Result on GPU: {c.numpy()}\")"
   ]
  },
  {
   "cell_type": "code",
   "execution_count": null,
   "id": "2ab93147-9c90-425c-8507-8cce74254f24",
   "metadata": {},
   "outputs": [],
   "source": []
  }
 ],
 "metadata": {
  "kernelspec": {
   "display_name": "Python (pagepy-env)",
   "language": "python",
   "name": "pagepy-env"
  },
  "language_info": {
   "codemirror_mode": {
    "name": "ipython",
    "version": 3
   },
   "file_extension": ".py",
   "mimetype": "text/x-python",
   "name": "python",
   "nbconvert_exporter": "python",
   "pygments_lexer": "ipython3",
   "version": "3.12.8"
  }
 },
 "nbformat": 4,
 "nbformat_minor": 5
}
