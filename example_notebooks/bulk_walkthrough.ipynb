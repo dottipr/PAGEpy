{
 "cells": [
  {
   "cell_type": "markdown",
   "id": "47291867",
   "metadata": {},
   "source": [
    "# Bulk Walkthrough"
   ]
  },
  {
   "cell_type": "code",
   "execution_count": 1,
   "id": "b46c4be4-819a-440f-8f48-82b2dc5b2aa2",
   "metadata": {},
   "outputs": [
    {
     "name": "stdout",
     "output_type": "stream",
     "text": [
      "Total: 134.5 GB\n",
      "Available: 129.0 GB\n"
     ]
    }
   ],
   "source": [
    "import psutil\n",
    "\n",
    "mem = psutil.virtual_memory()\n",
    "print(f\"Total: {mem.total / 1e9:.1f} GB\")\n",
    "print(f\"Available: {mem.available / 1e9:.1f} GB\")"
   ]
  },
  {
   "cell_type": "code",
   "execution_count": 5,
   "id": "66cf8a5e",
   "metadata": {},
   "outputs": [],
   "source": [
    "# autoreload is used to reload modules automatically before entering the\n",
    "# execution of code typed at the IPython prompt.\n",
    "%load_ext autoreload\n",
    "%autoreload 2"
   ]
  },
  {
   "cell_type": "code",
   "execution_count": 1,
   "id": "313dd8d8-ed0e-4ab9-b147-60dcb21a0ba2",
   "metadata": {
    "tags": []
   },
   "outputs": [
    {
     "name": "stderr",
     "output_type": "stream",
     "text": [
      "2025-08-13 19:46:15.542959: E external/local_xla/xla/stream_executor/cuda/cuda_fft.cc:477] Unable to register cuFFT factory: Attempting to register factory for plugin cuFFT when one has already been registered\n",
      "WARNING: All log messages before absl::InitializeLog() is called are written to STDERR\n",
      "E0000 00:00:1755114375.557203    1606 cuda_dnn.cc:8310] Unable to register cuDNN factory: Attempting to register factory for plugin cuDNN when one has already been registered\n",
      "E0000 00:00:1755114375.561613    1606 cuda_blas.cc:1418] Unable to register cuBLAS factory: Attempting to register factory for plugin cuBLAS when one has already been registered\n"
     ]
    }
   ],
   "source": [
    "from PAGEpy import plot_functions\n",
    "from PAGEpy import pso as pso\n",
    "from PAGEpy.dataset_class import GeneExpressionDataset\n",
    "from PAGEpy.models import AdvancedNN, SimpleNN, TrainingConfig\n",
    "import pickle\n",
    "import pandas as pd\n",
    "from PAGEpy import utils"
   ]
  },
  {
   "cell_type": "code",
   "execution_count": 3,
   "id": "1da9778e-8007-4d79-8d36-8f855deec5c4",
   "metadata": {
    "tags": []
   },
   "outputs": [
    {
     "name": "stderr",
     "output_type": "stream",
     "text": [
      "\u001b[32m19:44:46 [utils:26]\u001b[0m GPU devices available: 1\n",
      "\u001b[32m19:44:46 [utils:31]\u001b[0m Memory growth enabled for 1 GPU(s)\n",
      "\u001b[32m19:44:46 [utils:37]\u001b[0m Mixed precision (float16) enabled\n"
     ]
    }
   ],
   "source": [
    "# memory growth is enabled for for the gpu\n",
    "gpu_available = utils.init_cuda()"
   ]
  },
  {
   "cell_type": "markdown",
   "id": "2d65227e",
   "metadata": {},
   "source": [
    "## Create Dataset"
   ]
  },
  {
   "cell_type": "code",
   "execution_count": 1,
   "id": "b4fd6c0d-7741-4bcf-9fdf-6960d9d6587e",
   "metadata": {},
   "outputs": [],
   "source": [
    "# autoreload is used to reload modules automatically before entering the\n",
    "# execution of code typed at the IPython prompt.\n",
    "%load_ext autoreload\n",
    "%autoreload 2\n",
    "from PAGEpy.dataset_class import GeneExpressionDataset"
   ]
  },
  {
   "cell_type": "code",
   "execution_count": null,
   "id": "9f8a9f6f-21ad-4dc0-839e-f475ab457f1b",
   "metadata": {},
   "outputs": [
    {
     "name": "stderr",
     "output_type": "stream",
     "text": [
      "\u001b[36m20:06:44 [/home/jovyan/PAGEpy/PAGEpy/dataset_class.py:117] [DEBUG]\u001b[0m tutto ok\n"
     ]
    }
   ],
   "source": [
    "# TODO: instead of file patterns, use whole filenames\n",
    "current_data = GeneExpressionDataset(\n",
    "    data_dir=\"../../bulk_data/\",\n",
    "    counts_pattern=\"count_matrix.mtx\",\n",
    "    barcodes_pattern=\"sample_names.txt\",\n",
    "    # I think here it's possible to set already processed gene list:\n",
    "    genes_pattern=\"gene_names.txt\",\n",
    "    metadata_pattern=\"response_labels.csv\",\n",
    "    gene_selection=\"Diff\",\n",
    "    pval_cutoff=0.00005,\n",
    "    pval_correction=\"benjamini-hochberg\",\n",
    "    features_out_filename=\"bulk_feature_set.pkl\",\n",
    "    train_samples_out_filename=\"bulk_train_samples.txt\",\n",
    "    positive_label=\"yes\"  # TODO: find out how Sean encoded it\n",
    ")"
   ]
  },
  {
   "cell_type": "code",
   "execution_count": null,
   "id": "19f60d0b",
   "metadata": {},
   "outputs": [],
   "source": [
    "# the selected genes can be loaded from the local directory, however, they are\n",
    "# also an attribte of the GeneExpressionDataset object\n",
    "genes_path = \"bulk_feature_set.pkl\"\n",
    "\n",
    "with open(genes_path, \"rb\") as f:\n",
    "    current_genes = pickle.load(f)\n",
    "print(f\"Loaded {len(current_genes)} genes as 'current_genes'\")"
   ]
  },
  {
   "cell_type": "markdown",
   "id": "2657b046",
   "metadata": {},
   "source": [
    "## Initialize and train NN Model"
   ]
  },
  {
   "cell_type": "markdown",
   "id": "1210f6e7",
   "metadata": {},
   "source": [
    "Set NN model parameters"
   ]
  },
  {
   "cell_type": "code",
   "execution_count": null,
   "id": "88000552",
   "metadata": {},
   "outputs": [],
   "source": [
    "# retrieved default params used in Sean's code\n",
    "config = TrainingConfig(\n",
    "    report_frequency=1,\n",
    "    auc_threshold=1,\n",
    "    learning_rate=0.001)\n",
    "\n",
    "training_params = {\n",
    "    # 'n_epochs': 50,\n",
    "    'n_epochs': 500,\n",
    "    'batch_size': 64,\n",
    "    'seed': 42,\n",
    "}"
   ]
  },
  {
   "cell_type": "markdown",
   "id": "383f5ae8",
   "metadata": {},
   "source": [
    "Train NN model before PSO"
   ]
  },
  {
   "cell_type": "code",
   "execution_count": null,
   "id": "5a2f7016",
   "metadata": {},
   "outputs": [],
   "source": [
    "# Initialize NN model\n",
    "initial_model = AdvancedNN(\n",
    "    # initial_model = SimpleNN(\n",
    "    n_input_features=len(current_genes),\n",
    "    config=config,\n",
    ")\n",
    "\n",
    "# Train model\n",
    "train_history = initial_model.train(\n",
    "    x_train=current_data.x_train,\n",
    "    y_train=current_data.y_train,\n",
    "    x_test=current_data.x_test,\n",
    "    y_test=current_data.y_test,\n",
    "    **training_params,\n",
    ")"
   ]
  },
  {
   "cell_type": "code",
   "execution_count": null,
   "id": "fdf02a81",
   "metadata": {},
   "outputs": [],
   "source": [
    "plot_functions.plot_model_history(\n",
    "    model_history=train_history,\n",
    "    report_frequency=initial_model.config.report_frequency,\n",
    "    y_train=current_data.y_train,\n",
    "    y_test=current_data.y_test,\n",
    "    save_path=None\n",
    ")"
   ]
  },
  {
   "cell_type": "markdown",
   "id": "9a8c3111",
   "metadata": {},
   "source": [
    "## Run binary PSO\n",
    "\n",
    "TO DO: is the algorithm leveraging the GPU??"
   ]
  },
  {
   "cell_type": "code",
   "execution_count": null,
   "id": "b4a9846f",
   "metadata": {},
   "outputs": [],
   "source": [
    "# the pso algorithm can be use to optimze the solution\n",
    "best_solution, best_fitness = pso.run_binary_pso(\n",
    "    input_data=current_data,\n",
    "    feature_names=current_genes,\n",
    "    # pop_size=200,\n",
    "    pop_size=5,\n",
    "    # n_generations=15,\n",
    "    n_generations=2,\n",
    "    w=1,\n",
    "    c1=2,\n",
    "    c2=1.5,\n",
    "    # n_reps=4,\n",
    "    n_reps=1,\n",
    "    verbose=True,\n",
    "    # verbose=False,\n",
    "    adaptive_metrics=False\n",
    ")"
   ]
  },
  {
   "cell_type": "code",
   "execution_count": null,
   "id": "2e8515c7-2c7d-4c57-bd10-74be273efa21",
   "metadata": {},
   "outputs": [],
   "source": [
    "# the results of pso optimizatoin can be monitored\n",
    "loaded_fitness_scores = pd.read_pickle(\"pso_fitness_scores.pkl\")\n",
    "loaded_particle_history = pd.read_pickle(\"pso_particle_history.pkl\")"
   ]
  },
  {
   "cell_type": "code",
   "execution_count": null,
   "id": "ac8cd4af-2525-4fd2-bc12-d4d6fedb79c9",
   "metadata": {},
   "outputs": [],
   "source": [
    "plot_functions.plot_pso_fitness_evolution(loaded_fitness_scores)\n",
    "plot_functions.plot_population_diversity(loaded_particle_history)\n",
    "plot_functions.plot_feature_selection_frequency(\n",
    "    loaded_particle_history)"
   ]
  },
  {
   "cell_type": "markdown",
   "id": "457fbfba",
   "metadata": {},
   "source": [
    "## Initialize and train improved NN Model"
   ]
  },
  {
   "cell_type": "code",
   "execution_count": null,
   "id": "991d0135-62e4-41a6-9a6c-0c327499f56e",
   "metadata": {},
   "outputs": [],
   "source": [
    "# the optimised solution is saved locally, however, the returned varible from\n",
    "# the binary_pso function can also be passed to the model (see below)\n",
    "# pso_genes = [item for item, m in zip(current_genes, best_solution) if m == 1]\n",
    "\n",
    "# othervise just load the locally stored result file\n",
    "\n",
    "# Load the saved genes list\n",
    "with open(\"pso_selected_genes.pkl\", \"rb\") as f:\n",
    "    pso_genes = pickle.load(f)"
   ]
  },
  {
   "cell_type": "code",
   "execution_count": null,
   "id": "1cb3e4be",
   "metadata": {},
   "outputs": [],
   "source": [
    "# now use this gene list to train a new model, which you can then evaluate\n",
    "n_pso_input_features = len(pso_genes)\n",
    "\n",
    "improved_model = AdvancedNN(\n",
    "    # improved_model = SimpleNN(\n",
    "    n_input_features=n_pso_input_features,\n",
    "    config=config,\n",
    ")\n",
    "\n",
    "# select feature subset and scale data\n",
    "x_train, x_test, y_train, y_test = current_data.get_scaled_feature_subset(\n",
    "    feature_subset=pso_genes\n",
    ")\n",
    "\n",
    "# Train model\n",
    "improved_train_history = improved_model.train(\n",
    "    x_train=x_train,\n",
    "    y_train=y_train,\n",
    "    x_test=x_test,\n",
    "    y_test=y_test,\n",
    "    **training_params,\n",
    ")"
   ]
  },
  {
   "cell_type": "code",
   "execution_count": null,
   "id": "31c2194d-9a8f-4faf-8b85-b860333008a9",
   "metadata": {},
   "outputs": [],
   "source": [
    "plot_functions.plot_model_history(\n",
    "    model_history=improved_train_history,\n",
    "    report_frequency=improved_model.config.report_frequency,\n",
    "    y_train=y_train,\n",
    "    y_test=y_test,\n",
    "    save_path=None\n",
    ")"
   ]
  },
  {
   "cell_type": "code",
   "execution_count": null,
   "id": "b5de9fe1",
   "metadata": {},
   "outputs": [],
   "source": []
  }
 ],
 "metadata": {
  "kernelspec": {
   "display_name": "Python (pagepy-env)",
   "language": "python",
   "name": "pagepy-env"
  },
  "language_info": {
   "codemirror_mode": {
    "name": "ipython",
    "version": 3
   },
   "file_extension": ".py",
   "mimetype": "text/x-python",
   "name": "python",
   "nbconvert_exporter": "python",
   "pygments_lexer": "ipython3",
   "version": "3.12.8"
  }
 },
 "nbformat": 4,
 "nbformat_minor": 5
}
