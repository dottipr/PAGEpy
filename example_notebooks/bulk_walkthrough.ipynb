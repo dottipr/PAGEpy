{
 "cells": [
  {
   "cell_type": "markdown",
   "id": "47291867",
   "metadata": {},
   "source": [
    "# Bulk Walkthrough\n",
    "\n",
    "Output directory structure (**TODO**: move to README)\n",
    "\n",
    "```\n",
    "bulk_walkthrough_output/\n",
    "├── checkpoints/\n",
    "│   ├── checkpoint_241201_143022.pkl\n",
    "│   └── checkpoint_my_experiment_001.pkl\n",
    "├── 241201_143022_data/\n",
    "│   ├── pso_selected_genes.pkl\n",
    "│   ├── pso_selected_genes.txt\n",
    "│   ├── pso_final_results.pkl\n",
    "│   └── ...\n",
    "└── my_experiment_001_data/\n",
    "    └── ...\n",
    "```\n",
    "\n",
    "Last updated: 26.08.2025"
   ]
  },
  {
   "cell_type": "code",
   "execution_count": null,
   "id": "66cf8a5e",
   "metadata": {},
   "outputs": [],
   "source": [
    "# autoreload is used to reload modules automatically before entering the\n",
    "# execution of code typed at the IPython prompt.\n",
    "%load_ext autoreload\n",
    "%autoreload 2"
   ]
  },
  {
   "cell_type": "code",
   "execution_count": null,
   "id": "313dd8d8-ed0e-4ab9-b147-60dcb21a0ba2",
   "metadata": {
    "tags": []
   },
   "outputs": [],
   "source": [
    "import logging\n",
    "import os\n",
    "import pickle\n",
    "from datetime import datetime\n",
    "\n",
    "import pandas as pd\n",
    "\n",
    "import PAGEpy\n",
    "from PAGEpy import plot_functions, pso, utils\n",
    "from PAGEpy.dataset_class import GeneExpressionDataset\n",
    "from PAGEpy.models import AdvancedNN, TrainingConfig\n",
    "\n",
    "PAGEpy.setup_jupyter_logging(level=logging.INFO)\n",
    "logger = logging.getLogger(\"Bulk Walkthrough\")"
   ]
  },
  {
   "cell_type": "code",
   "execution_count": null,
   "id": "1da9778e-8007-4d79-8d36-8f855deec5c4",
   "metadata": {
    "tags": []
   },
   "outputs": [],
   "source": [
    "# Initialize CUDA for GPU support\n",
    "gpu_available = utils.init_tensorflow()"
   ]
  },
  {
   "cell_type": "markdown",
   "id": "190c9b65",
   "metadata": {},
   "source": [
    "### Configure output filenames\n",
    "\n",
    "By default the run ID is the current date & time, manually change this to resume a previous run."
   ]
  },
  {
   "cell_type": "code",
   "execution_count": null,
   "id": "7dc44a16",
   "metadata": {},
   "outputs": [],
   "source": [
    "run_id = datetime.now().strftime(\"%y%m%d_%H%M%S\")\n",
    "#  run_id = \"TEST\"\n",
    "\n",
    "output_dir = \"bulk_walkthrough_output\"\n",
    "if not os.path.exists(output_dir):\n",
    "    os.makedirs(output_dir)\n",
    "\n",
    "data_directory = os.path.join(output_dir, f\"{run_id}_data\")\n",
    "if not os.path.exists(data_directory):\n",
    "    os.makedirs(data_directory)"
   ]
  },
  {
   "cell_type": "markdown",
   "id": "2d65227e",
   "metadata": {},
   "source": [
    "## Create Dataset"
   ]
  },
  {
   "cell_type": "code",
   "execution_count": null,
   "id": "9f8a9f6f-21ad-4dc0-839e-f475ab457f1b",
   "metadata": {},
   "outputs": [],
   "source": [
    "# TODO: instead of file patterns, use whole filenames\n",
    "current_data = GeneExpressionDataset(\n",
    "    data_dir=\"../../bulk_data/\",\n",
    "    counts_pattern=\"count_matrix.mtx\",\n",
    "    barcodes_pattern=\"sample_names.txt\",\n",
    "    # I think here it's possible to set already processed gene list:\n",
    "    genes_pattern=\"gene_names.txt\",\n",
    "    metadata_pattern=\"response_labels.csv\",\n",
    "    gene_selection=\"Diff\",\n",
    "    pval_cutoff=0.00005,\n",
    "    pval_correction=\"benjamini-hochberg\",\n",
    "    features_out_filename=os.path.join(\n",
    "        data_directory, \"feature_set.pkl\"),\n",
    "    train_samples_out_filename=os.path.join(\n",
    "        data_directory, \"train_samples.txt\"),\n",
    "    positive_label=\"yes\"  # TODO: find out how Sean originally encoded it\n",
    ")"
   ]
  },
  {
   "cell_type": "code",
   "execution_count": null,
   "id": "19f60d0b",
   "metadata": {},
   "outputs": [],
   "source": [
    "# Use genes selected during dataset creation...\n",
    "# genes_path = current_data.selected_features\n",
    "\n",
    "# ...or load selected genes from .pkl file\n",
    "genes_path = os.path.join(\n",
    "    data_directory, \"feature_set.pkl\")\n",
    "\n",
    "with open(genes_path, \"rb\") as f:\n",
    "    current_genes = pickle.load(f)\n",
    "logger.info(f\"Loaded {len(current_genes)} genes as 'current_genes'\")"
   ]
  },
  {
   "cell_type": "markdown",
   "id": "2657b046",
   "metadata": {},
   "source": [
    "## Initialize and train NN Model"
   ]
  },
  {
   "cell_type": "markdown",
   "id": "1210f6e7",
   "metadata": {},
   "source": [
    "Set NN model parameters"
   ]
  },
  {
   "cell_type": "code",
   "execution_count": null,
   "id": "88000552",
   "metadata": {},
   "outputs": [],
   "source": [
    "# retrieved default params used in Sean's code\n",
    "config = TrainingConfig(\n",
    "    report_frequency=1,\n",
    "    auc_threshold=1,\n",
    "    learning_rate=0.001)\n",
    "\n",
    "training_params = {\n",
    "    # 'n_epochs': 50,\n",
    "    'n_epochs': 500,\n",
    "    'batch_size': 64,\n",
    "    'seed': 42,\n",
    "}"
   ]
  },
  {
   "cell_type": "markdown",
   "id": "383f5ae8",
   "metadata": {},
   "source": [
    "Train NN model before PSO"
   ]
  },
  {
   "cell_type": "code",
   "execution_count": null,
   "id": "5a2f7016",
   "metadata": {
    "scrolled": true,
    "tags": []
   },
   "outputs": [],
   "source": [
    "# Initialize NN model\n",
    "initial_model = AdvancedNN(\n",
    "    n_input_features=len(current_genes),\n",
    "    config=config,\n",
    ")\n",
    "\n",
    "# Train model\n",
    "train_history = initial_model.train(\n",
    "    x_train=current_data.x_train,\n",
    "    y_train=current_data.y_train,\n",
    "    x_test=current_data.x_test,\n",
    "    y_test=current_data.y_test,\n",
    "    **training_params,\n",
    ")"
   ]
  },
  {
   "cell_type": "code",
   "execution_count": null,
   "id": "fdf02a81",
   "metadata": {},
   "outputs": [],
   "source": [
    "plot_functions.plot_model_history(\n",
    "    model_history=train_history,\n",
    "    report_frequency=initial_model.config.report_frequency,\n",
    "    y_train=current_data.y_train,\n",
    "    y_test=current_data.y_test,\n",
    "    save_path=os.path.join(  # uncomment to save plot on disc\n",
    "        data_directory, \"initial_model_history.png\"),\n",
    "    data_save_path=os.path.join(\n",
    "        data_directory, \"initial_training_metrics.csv\")\n",
    ")"
   ]
  },
  {
   "cell_type": "markdown",
   "id": "9a8c3111",
   "metadata": {},
   "source": [
    "## Run binary PSO\n",
    "\n",
    "Run pso algorithm to find features (genes) that lead the NN model to a better solution.\n",
    "\n",
    "TO DO: is the algorithm leveraging the GPU??"
   ]
  },
  {
   "cell_type": "code",
   "execution_count": null,
   "id": "b4a9846f",
   "metadata": {
    "scrolled": true,
    "tags": []
   },
   "outputs": [],
   "source": [
    "from PAGEpy.models import SimpleNN\n",
    "\n",
    "\n",
    "best_solution, best_fitness = pso.run_binary_pso(\n",
    "    run_id=run_id,\n",
    "    input_data=current_data,\n",
    "    feature_names=current_genes,\n",
    "    pop_size=200,\n",
    "    # pop_size=3,\n",
    "    n_generations=15,\n",
    "    # n_generations=4,\n",
    "    w=1,\n",
    "    c1=2,\n",
    "    c2=1.5,\n",
    "    n_reps=4,\n",
    "    #  n_reps=1,\n",
    "    verbose=True,\n",
    "    # verbose=False,\n",
    "    adaptive_metrics=False,\n",
    "    output_prefix=data_directory,\n",
    "    model_class=SimpleNN,\n",
    ")"
   ]
  },
  {
   "cell_type": "code",
   "execution_count": null,
   "id": "2e8515c7-2c7d-4c57-bd10-74be273efa21",
   "metadata": {},
   "outputs": [],
   "source": [
    "# Load PSO results\n",
    "loaded_fitness_scores = pd.read_pickle(\n",
    "    os.path.join(data_directory, \"pso_fitness_scores.pkl\"))\n",
    "loaded_particle_history = pd.read_pickle(\n",
    "    os.path.join(data_directory, \"pso_particle_history.pkl\"))"
   ]
  },
  {
   "cell_type": "code",
   "execution_count": null,
   "id": "ac8cd4af-2525-4fd2-bc12-d4d6fedb79c9",
   "metadata": {},
   "outputs": [],
   "source": [
    "# Plot PSO results\n",
    "plot_functions.plot_pso_fitness_evolution(\n",
    "    fitness_history=loaded_fitness_scores,\n",
    "    save_path=os.path.join(data_directory, \"pso_fitness_evolution.png\"))\n",
    "plot_functions.plot_population_diversity(\n",
    "    particle_history=loaded_particle_history,\n",
    "    save_path=os.path.join(data_directory, \"pso_population_diversity.png\"))\n",
    "plot_functions.plot_feature_selection_frequency(\n",
    "    particle_history=loaded_particle_history,\n",
    "    save_path=os.path.join(data_directory, \"pso_feature_selection_frequency.png\"))"
   ]
  },
  {
   "cell_type": "markdown",
   "id": "457fbfba",
   "metadata": {},
   "source": [
    "## Initialize and train improved NN Model"
   ]
  },
  {
   "cell_type": "code",
   "execution_count": null,
   "id": "991d0135-62e4-41a6-9a6c-0c327499f56e",
   "metadata": {},
   "outputs": [],
   "source": [
    "# the optimised solution is saved locally, however, the returned varible from\n",
    "# the binary_pso function can also be passed to the model (see below)\n",
    "# pso_genes = [item for item, m in zip(current_genes, best_solution) if m == 1]\n",
    "\n",
    "# othervise just load the locally stored result file\n",
    "\n",
    "# Load the saved genes list\n",
    "with open(os.path.join(data_directory, \"pso_selected_genes.pkl\"), \"rb\") as f:\n",
    "    pso_genes = pickle.load(f)"
   ]
  },
  {
   "cell_type": "code",
   "execution_count": null,
   "id": "1cb3e4be",
   "metadata": {},
   "outputs": [],
   "source": [
    "# now use this gene list to train a new model, which you can then evaluate\n",
    "n_pso_input_features = len(pso_genes)\n",
    "\n",
    "improved_model = AdvancedNN(\n",
    "    n_input_features=n_pso_input_features,\n",
    "    config=config,\n",
    ")\n",
    "\n",
    "# select feature subset and scale data\n",
    "x_train, x_test, y_train, y_test = current_data.get_scaled_feature_subset(\n",
    "    feature_subset=pso_genes\n",
    ")\n",
    "\n",
    "# Train model\n",
    "improved_train_history = improved_model.train(\n",
    "    x_train=x_train,\n",
    "    y_train=y_train,\n",
    "    x_test=x_test,\n",
    "    y_test=y_test,\n",
    "    **training_params,\n",
    ")"
   ]
  },
  {
   "cell_type": "code",
   "execution_count": null,
   "id": "31c2194d-9a8f-4faf-8b85-b860333008a9",
   "metadata": {},
   "outputs": [],
   "source": [
    "plot_functions.plot_model_history(\n",
    "    model_history=improved_train_history,\n",
    "    report_frequency=improved_model.config.report_frequency,\n",
    "    y_train=y_train,\n",
    "    y_test=y_test,\n",
    "    save_path=os.path.join(  # uncomment to save plot on disc\n",
    "        data_directory, \"improved_model_history.png\"),\n",
    "    data_save_path=os.path.join(\n",
    "        data_directory, \"improved_training_metrics.csv\")\n",
    ")"
   ]
  },
  {
   "cell_type": "code",
   "execution_count": null,
   "id": "06b200ee",
   "metadata": {},
   "outputs": [],
   "source": []
  }
 ],
 "metadata": {
  "kernelspec": {
   "display_name": "PAGEpy (hatch)",
   "language": "python",
   "name": "pagepy-env"
  },
  "language_info": {
   "codemirror_mode": {
    "name": "ipython",
    "version": 3
   },
   "file_extension": ".py",
   "mimetype": "text/x-python",
   "name": "python",
   "nbconvert_exporter": "python",
   "pygments_lexer": "ipython3",
   "version": "3.12.3"
  }
 },
 "nbformat": 4,
 "nbformat_minor": 5
}
