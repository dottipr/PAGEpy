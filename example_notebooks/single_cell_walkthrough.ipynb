{
 "cells": [
  {
   "cell_type": "markdown",
   "id": "d291421a",
   "metadata": {},
   "source": [
    "!!! TO DO domani !!!\n",
    "- scrivere come ho fatto a sistemare la gpu dal terminale (cf conversazione con claude)\n",
    "\n",
    "\n",
    "Remarks\n",
    "- Added initial cell to reload modules automatically \n",
    "- ~~In `FormatData` definition~~\n",
    "  - ~~file paths are hardcoded -> either provide it as a fct parameter or mention in readme how names should be formatted~~\n",
    "  - ~~the line `self.adata.obs = metadata_df` rewrites `self.adata.obs_names` as well!! --> I don't know if this should later be fixed?~~\n",
    "- In readme\n",
    "  - in `FormatData` documentation, `.x_train` and `.x_test` are said to be DataFrames but I think they're arrays\n",
    "  - `.selected_genes` are explained twice (and are the same info as `.genes`)\n",
    "  - in `binary_pso` documentation, `current_data` is said to be a dataframe, but I think it is a `FormatData` object\n",
    "- PredAnnModel didn't use to scale data??? <- check this!! TODO\n",
    "- !!! I think results aren't deterministic/reproducible!\n",
    "\n",
    "# Single Cell Walkthrough\n",
    "\n",
    "Output directory structure (**TODO**: move to README)\n",
    "\n",
    "```\n",
    "single_cell_walkthrough_output/\n",
    "├── checkpoints/\n",
    "│   ├── checkpoint_241201_143022.pkl\n",
    "│   └── checkpoint_my_experiment_001.pkl\n",
    "├── 241201_143022_data/\n",
    "│   ├── pso_selected_genes.pkl\n",
    "│   ├── pso_selected_genes.txt\n",
    "│   ├── pso_final_results.pkl\n",
    "│   └── ...\n",
    "└── my_experiment_001_data/\n",
    "    └── ...\n",
    "```\n",
    "\n",
    "Last updated: 26.08.2025"
   ]
  },
  {
   "cell_type": "code",
   "execution_count": null,
   "id": "c82185d6",
   "metadata": {},
   "outputs": [],
   "source": [
    "# autoreload is used to reload modules automatically before entering the\n",
    "# execution of code typed at the IPython prompt.\n",
    "%load_ext autoreload\n",
    "%autoreload 2"
   ]
  },
  {
   "cell_type": "code",
   "execution_count": null,
   "id": "3f55b0d6-f6ed-4522-81fb-5c4080d3e82a",
   "metadata": {
    "tags": []
   },
   "outputs": [],
   "source": [
    "import os\n",
    "import pickle\n",
    "from datetime import datetime\n",
    "\n",
    "import pandas as pd\n",
    "\n",
    "from PAGEpy import plot_functions, pso, utils\n",
    "from PAGEpy.dataset_class import GeneExpressionDataset\n",
    "from PAGEpy.models import AdvancedNN, TrainingConfig"
   ]
  },
  {
   "cell_type": "code",
   "execution_count": null,
   "id": "ddbccf8a",
   "metadata": {},
   "outputs": [],
   "source": [
    "# memory growth is enabled for for the gpu\n",
    "gpu_available = utils.init_tensorflow()"
   ]
  },
  {
   "cell_type": "markdown",
   "id": "8756c64a",
   "metadata": {},
   "source": [
    "### Configure output filenames\n",
    "\n",
    "By default the run ID is the current date & time, manually change this to resume a previous run."
   ]
  },
  {
   "cell_type": "code",
   "execution_count": null,
   "id": "88bb7e66",
   "metadata": {},
   "outputs": [],
   "source": [
    "# run_id = datetime.now().strftime(\"%y%m%d_%H%M%S\")\n",
    "run_id = \"TEST\"\n",
    "\n",
    "output_dir = \"single_cell_walkthrough_output\"\n",
    "if not os.path.exists(output_dir):\n",
    "    os.makedirs(output_dir)\n",
    "output_prefix = os.path.join(output_dir, f\"{run_id}_\")\n",
    "\n",
    "data_directory = output_prefix + \"data\"\n",
    "if not os.path.exists(data_directory):\n",
    "    os.makedirs(data_directory)"
   ]
  },
  {
   "cell_type": "markdown",
   "id": "e1c6d86d",
   "metadata": {},
   "source": [
    "## Create Dataset\n",
    "Dataset has 2000 gene features, selected using `HVG` (can also use differential expression analysis `Diff`; leave empty to use whole gene list given by `genes_pattern`)."
   ]
  },
  {
   "cell_type": "code",
   "execution_count": null,
   "id": "871d616b",
   "metadata": {},
   "outputs": [],
   "source": [
    "n_hvg_input_features = 2000\n",
    "\n",
    "# TODO: instead of file patterns, use whole filenames\n",
    "current_data = GeneExpressionDataset(\n",
    "    data_dir=\"../../HIVdata/\",\n",
    "    counts_pattern=\"*counts.mtx\",\n",
    "    barcodes_pattern=\"*barcodes.txt\",\n",
    "    # I think here it's possible to set already processed gene list:\n",
    "    genes_pattern=\"*genes.txt\",\n",
    "    metadata_pattern=\"*infection_status.csv\",\n",
    "    gene_selection=\"HVG\",\n",
    "    pval_correction=\"benjamini-hochberg\",\n",
    "    hvg_count=n_hvg_input_features,\n",
    "    features_out_filename=os.path.join(\n",
    "        data_directory, \"feature_set.pkl\"),\n",
    "    train_samples_out_filename=os.path.join(\n",
    "        data_directory, \"train_samples.txt\"),\n",
    "    # positive_label=\"Infected\"\n",
    ")"
   ]
  },
  {
   "cell_type": "code",
   "execution_count": null,
   "id": "8688ece0",
   "metadata": {},
   "outputs": [],
   "source": [
    "# Use genes selected during dataset creation...\n",
    "# genes_path = current_data.selected_features\n",
    "\n",
    "# ...or load selected genes from .pkl file\n",
    "genes_path = os.path.join(\n",
    "    data_directory, \"feature_set.pkl\")\n",
    "\n",
    "with open(genes_path, \"rb\") as f:\n",
    "    current_genes = pickle.load(f)\n",
    "print(f\"Loaded {len(current_genes)} genes as 'current_genes'\")"
   ]
  },
  {
   "cell_type": "markdown",
   "id": "7bf3d89d",
   "metadata": {},
   "source": [
    "## Initialize and train NN Model"
   ]
  },
  {
   "cell_type": "markdown",
   "id": "402ebcc4",
   "metadata": {},
   "source": [
    "Set NN model parameters"
   ]
  },
  {
   "cell_type": "code",
   "execution_count": null,
   "id": "dd634381",
   "metadata": {},
   "outputs": [],
   "source": [
    "# retrieved default params used in Sean's code\n",
    "config = TrainingConfig(\n",
    "    report_frequency=1,\n",
    "    auc_threshold=1,\n",
    "    learning_rate=0.001)\n",
    "\n",
    "training_params = {\n",
    "    # 'n_epochs': 50,\n",
    "    'n_epochs': 500,\n",
    "    'batch_size': 512,\n",
    "    'seed': 42,\n",
    "}"
   ]
  },
  {
   "cell_type": "markdown",
   "id": "52ccb85f",
   "metadata": {},
   "source": [
    "Train NN model before PSO"
   ]
  },
  {
   "cell_type": "code",
   "execution_count": null,
   "id": "9bdc9b2b",
   "metadata": {},
   "outputs": [],
   "source": [
    "# Initialize NN model\n",
    "initial_model = AdvancedNN(\n",
    "    n_input_features=n_hvg_input_features,\n",
    "    config=config,\n",
    ")\n",
    "\n",
    "# Train model\n",
    "train_history = initial_model.train(\n",
    "    x_train=current_data.x_train,\n",
    "    y_train=current_data.y_train,\n",
    "    x_test=current_data.x_test,\n",
    "    y_test=current_data.y_test,\n",
    "    **training_params,\n",
    ")"
   ]
  },
  {
   "cell_type": "code",
   "execution_count": null,
   "id": "c03480d6",
   "metadata": {},
   "outputs": [],
   "source": [
    "plot_functions.plot_model_history(\n",
    "    model_history=train_history,\n",
    "    report_frequency=initial_model.config.report_frequency,\n",
    "    y_train=current_data.y_train,\n",
    "    y_test=current_data.y_test,\n",
    "    save_path=os.path.join(  # uncomment to save plot on disc\n",
    "        data_directory, \"initial_model_history.png\"),\n",
    "    data_save_path=os.path.join(\n",
    "        data_directory, \"initial_training_metrics.csv\")\n",
    ")"
   ]
  },
  {
   "cell_type": "markdown",
   "id": "d49365d0",
   "metadata": {},
   "source": [
    "## Run binary PSO\n",
    "\n",
    "Run pso algorithm to find features (genes) that lead the NN model to a better solution.\n",
    "\n",
    "TO DO: is the algorithm leveraging the GPU??"
   ]
  },
  {
   "cell_type": "code",
   "execution_count": null,
   "id": "3c5de789-2efa-4ec1-8f02-8fc5fd57e05d",
   "metadata": {},
   "outputs": [],
   "source": [
    "best_solution, best_fitness = pso.run_binary_pso(\n",
    "    run_id=run_id,\n",
    "    input_data=current_data,\n",
    "    feature_names=current_genes,\n",
    "    # pop_size=200,\n",
    "    pop_size=5,\n",
    "    # n_generations=15,\n",
    "    n_generations=2,\n",
    "    w=1,\n",
    "    c1=2,\n",
    "    c2=1.5,\n",
    "    # n_reps=4,\n",
    "    n_reps=1,\n",
    "    verbose=True,\n",
    "    # verbose=False,\n",
    "    adaptive_metrics=False,\n",
    "    output_prefix=data_directory,\n",
    ")"
   ]
  },
  {
   "cell_type": "code",
   "execution_count": null,
   "id": "e2c1617e-79b4-437c-b534-fac097911ec4",
   "metadata": {},
   "outputs": [],
   "source": [
    "# Load PSO results\n",
    "loaded_fitness_scores = pd.read_pickle(\n",
    "    os.path.join(data_directory, \"pso_fitness_scores.pkl\"))\n",
    "loaded_particle_history = pd.read_pickle(\n",
    "    os.path.join(data_directory, \"pso_particle_history.pkl\"))"
   ]
  },
  {
   "cell_type": "code",
   "execution_count": null,
   "id": "2fb2c592",
   "metadata": {},
   "outputs": [],
   "source": [
    "# Plot PSO results\n",
    "plot_functions.plot_pso_fitness_evolution(\n",
    "    fitness_history=loaded_fitness_scores,\n",
    "    save_path=os.path.join(data_directory, \"pso_fitness_evolution.png\"))\n",
    "plot_functions.plot_population_diversity(\n",
    "    particle_history=loaded_particle_history,\n",
    "    save_path=os.path.join(data_directory, \"pso_population_diversity.png\"))\n",
    "plot_functions.plot_feature_selection_frequency(\n",
    "    particle_history=loaded_particle_history,\n",
    "    save_path=os.path.join(data_directory, \"pso_feature_selection_frequency.png\"))"
   ]
  },
  {
   "cell_type": "markdown",
   "id": "be4be069",
   "metadata": {},
   "source": [
    "## Initialize and train improved NN Model"
   ]
  },
  {
   "cell_type": "code",
   "execution_count": null,
   "id": "bc041f4c-8917-4c65-996e-23867b6e1e0c",
   "metadata": {},
   "outputs": [],
   "source": [
    "# the optimised solution is saved locally, however, the returned varible from\n",
    "# the binary_pso function can also be passed to the model (see below)\n",
    "# pso_genes = [item for item, m in zip(current_genes, best_solution) if m == 1]\n",
    "\n",
    "# othervise just load the locally stored result file\n",
    "\n",
    "# Load the saved genes list\n",
    "with open(os.path.join(data_directory, \"pso_selected_genes.pkl\"), \"rb\") as f:\n",
    "    pso_genes = pickle.load(f)"
   ]
  },
  {
   "cell_type": "code",
   "execution_count": null,
   "id": "92521d16-9191-4abd-8212-69ee66e54f9a",
   "metadata": {},
   "outputs": [],
   "source": [
    "# now use this gene list to train a new model, which you can then evaluate\n",
    "n_pso_input_features = len(pso_genes)\n",
    "\n",
    "improved_model = AdvancedNN(\n",
    "    # improved_model = SimpleNN(\n",
    "    n_input_features=n_pso_input_features,\n",
    "    config=config,\n",
    ")\n",
    "\n",
    "# select feature subset and scale data\n",
    "x_train, x_test, y_train, y_test = current_data.get_scaled_feature_subset(\n",
    "    feature_subset=pso_genes\n",
    ")\n",
    "\n",
    "# Train model\n",
    "improved_train_history = improved_model.train(\n",
    "    x_train=x_train,\n",
    "    y_train=y_train,\n",
    "    x_test=x_test,\n",
    "    y_test=y_test,\n",
    "    **training_params,\n",
    ")"
   ]
  },
  {
   "cell_type": "code",
   "execution_count": null,
   "id": "ccff8a8e",
   "metadata": {},
   "outputs": [],
   "source": [
    "plot_functions.plot_model_history(\n",
    "    model_history=improved_train_history,\n",
    "    report_frequency=improved_model.config.report_frequency,\n",
    "    y_train=y_train,\n",
    "    y_test=y_test,\n",
    "    save_path=os.path.join(  # uncomment to save plot on disc\n",
    "        data_directory, \"improved_model_history.png\"),\n",
    "    data_save_path=os.path.join(\n",
    "        data_directory, \"improved_training_metrics.csv\")\n",
    ")"
   ]
  },
  {
   "cell_type": "code",
   "execution_count": null,
   "id": "8e548c13",
   "metadata": {},
   "outputs": [],
   "source": []
  }
 ],
 "metadata": {
  "kernelspec": {
   "display_name": "pagepy",
   "language": "python",
   "name": "python3"
  },
  "language_info": {
   "codemirror_mode": {
    "name": "ipython",
    "version": 3
   },
   "file_extension": ".py",
   "mimetype": "text/x-python",
   "name": "python",
   "nbconvert_exporter": "python",
   "pygments_lexer": "ipython3",
   "version": "3.12.3"
  }
 },
 "nbformat": 4,
 "nbformat_minor": 5
}
