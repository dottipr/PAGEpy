{
 "cells": [
  {
   "cell_type": "markdown",
   "id": "ca9cc7f7",
   "metadata": {},
   "source": [
    "💡💡 **Train a NN with as many genes as possible to see what's a possible upper bound in accuracy** ✨\n",
    "\n",
    "- with bulk data\n",
    "\n",
    "**Author:** Prisca Dotti\n",
    "\n",
    "**Last modified:** 10.09.2025"
   ]
  },
  {
   "cell_type": "code",
   "execution_count": 14,
   "id": "daf294fc",
   "metadata": {},
   "outputs": [
    {
     "name": "stdout",
     "output_type": "stream",
     "text": [
      "2.16.2\n"
     ]
    }
   ],
   "source": [
    "import tensorflow as tf\n",
    "print(tf.__version__)"
   ]
  },
  {
   "cell_type": "code",
   "execution_count": null,
   "id": "2c227599",
   "metadata": {},
   "outputs": [],
   "source": []
  },
  {
   "cell_type": "code",
   "execution_count": null,
   "id": "80b057cc",
   "metadata": {},
   "outputs": [],
   "source": []
  },
  {
   "cell_type": "code",
   "execution_count": null,
   "id": "38045842",
   "metadata": {},
   "outputs": [],
   "source": [
    "# autoreload is used to reload modules automatically before entering the\n",
    "# execution of code typed at the IPython prompt.\n",
    "%load_ext autoreload\n",
    "%autoreload 2"
   ]
  },
  {
   "cell_type": "code",
   "execution_count": null,
   "id": "a2929571",
   "metadata": {},
   "outputs": [],
   "source": [
    "import logging\n",
    "import os\n",
    "import pickle\n",
    "from datetime import datetime\n",
    "\n",
    "import pandas as pd\n",
    "\n",
    "import PAGEpy\n",
    "from PAGEpy import plot_functions, pso, utils\n",
    "from PAGEpy.dataset_class import GeneExpressionDataset\n",
    "from PAGEpy.models import AdvancedNN, TrainingConfig\n",
    "\n",
    "PAGEpy.setup_jupyter_logging(level=logging.INFO)\n",
    "logger = logging.getLogger(\"Train Large NN\")"
   ]
  },
  {
   "cell_type": "code",
   "execution_count": null,
   "id": "950ff4ed",
   "metadata": {},
   "outputs": [],
   "source": [
    "# Initialize CUDA for GPU support\n",
    "gpu_available = utils.init_tensorflow()"
   ]
  },
  {
   "cell_type": "markdown",
   "id": "b836bfc0",
   "metadata": {},
   "source": [
    "### Configure output filenames\n",
    "\n",
    "By default the run ID is the current date & time, manually change this to resume a previous run."
   ]
  },
  {
   "cell_type": "code",
   "execution_count": null,
   "id": "4a7a81f8",
   "metadata": {},
   "outputs": [],
   "source": [
    "# run_id = datetime.now().strftime(\"%y%m%d_%H%M%S\")\n",
    "run_id = \"TEST\"\n",
    "\n",
    "output_dir = \"large_nn_output\"\n",
    "if not os.path.exists(output_dir):\n",
    "    os.makedirs(output_dir)\n",
    "\n",
    "data_directory = os.path.join(output_dir, f\"{run_id}_data\")\n",
    "if not os.path.exists(data_directory):\n",
    "    os.makedirs(data_directory)"
   ]
  },
  {
   "cell_type": "markdown",
   "id": "28933df4",
   "metadata": {},
   "source": [
    "## Create Dataset"
   ]
  },
  {
   "cell_type": "code",
   "execution_count": null,
   "id": "fa5e6808",
   "metadata": {},
   "outputs": [],
   "source": [
    "current_data = GeneExpressionDataset(\n",
    "    data_dir=\"../../bulk_data/\",\n",
    "    counts_pattern=\"count_matrix.mtx\",\n",
    "    barcodes_pattern=\"sample_names.txt\",\n",
    "    # I think here it's possible to set already processed gene list:\n",
    "    genes_pattern=\"gene_names.txt\",\n",
    "    metadata_pattern=\"response_labels.csv\",\n",
    "    gene_selection=\"\",\n",
    "    features_out_filename=os.path.join(\n",
    "        data_directory, \"feature_set.pkl\"),\n",
    "    train_samples_out_filename=os.path.join(\n",
    "        data_directory, \"train_samples.txt\"),\n",
    "    positive_label=\"yes\"  # TODO: find out how Sean originally encoded it\n",
    ")"
   ]
  },
  {
   "cell_type": "code",
   "execution_count": null,
   "id": "082c22c3",
   "metadata": {},
   "outputs": [],
   "source": [
    "current_genes = current_data.selected_features"
   ]
  },
  {
   "cell_type": "markdown",
   "id": "2262f35f",
   "metadata": {},
   "source": [
    "## Initialize and train NN Model"
   ]
  },
  {
   "cell_type": "markdown",
   "id": "55df311b",
   "metadata": {},
   "source": [
    "Set NN model parameters"
   ]
  },
  {
   "cell_type": "code",
   "execution_count": null,
   "id": "1aac5d27",
   "metadata": {},
   "outputs": [],
   "source": [
    "# retrieved default params used in Sean's code\n",
    "config = TrainingConfig(\n",
    "    report_frequency=1,\n",
    "    auc_threshold=1,\n",
    "    learning_rate=0.001,\n",
    "    multiplier=12)\n",
    "\n",
    "training_params = {\n",
    "    # 'n_epochs': 50,\n",
    "    'n_epochs': 500,\n",
    "    'batch_size': 64,\n",
    "    'seed': 42,\n",
    "}"
   ]
  },
  {
   "cell_type": "markdown",
   "id": "bec0ac3d",
   "metadata": {},
   "source": [
    "Train NN model with all genes"
   ]
  },
  {
   "cell_type": "code",
   "execution_count": null,
   "id": "56a22dae",
   "metadata": {},
   "outputs": [],
   "source": [
    "# Initialize NN model\n",
    "initial_model = AdvancedNN(\n",
    "    n_input_features=len(current_genes),\n",
    "    config=config,\n",
    ")\n",
    "\n",
    "# Train model\n",
    "train_history = initial_model.train(\n",
    "    x_train=current_data.x_train,\n",
    "    y_train=current_data.y_train,\n",
    "    x_test=current_data.x_test,\n",
    "    y_test=current_data.y_test,\n",
    "    **training_params,\n",
    ")"
   ]
  },
  {
   "cell_type": "code",
   "execution_count": null,
   "id": "1d419cb8",
   "metadata": {},
   "outputs": [],
   "source": [
    "plot_functions.plot_model_history(\n",
    "    model_history=train_history,\n",
    "    report_frequency=initial_model.config.report_frequency,\n",
    "    y_train=current_data.y_train,\n",
    "    y_test=current_data.y_test,\n",
    "    save_path=os.path.join(  # uncomment to save plot on disc\n",
    "        data_directory, \"large_NN_history.png\"),\n",
    "    data_save_path=os.path.join(\n",
    "        data_directory, \"large_NN_metrics.csv\")\n",
    ")"
   ]
  },
  {
   "cell_type": "code",
   "execution_count": null,
   "id": "f11aa862",
   "metadata": {},
   "outputs": [],
   "source": []
  }
 ],
 "metadata": {
  "kernelspec": {
   "display_name": "PAGEpy (hatch)",
   "language": "python",
   "name": "pagepy-env"
  },
  "language_info": {
   "codemirror_mode": {
    "name": "ipython",
    "version": 3
   },
   "file_extension": ".py",
   "mimetype": "text/x-python",
   "name": "python",
   "nbconvert_exporter": "python",
   "pygments_lexer": "ipython3",
   "version": "3.12.3"
  }
 },
 "nbformat": 4,
 "nbformat_minor": 5
}
